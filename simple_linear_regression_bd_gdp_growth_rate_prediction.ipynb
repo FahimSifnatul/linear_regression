{
 "cells": [
  {
   "cell_type": "code",
   "execution_count": 3,
   "metadata": {
    "scrolled": true
   },
   "outputs": [
    {
     "data": {
      "image/png": "[encoded data removed]",
      "text/plain": [
       "<Figure size 432x288 with 1 Axes>"
      ]
     },
     "metadata": {
      "needs_background": "light"
     },
     "output_type": "display_data"
    }
   ],
   "source": [
    "# linear regression equation as simple as drinking water.\n",
    "# it is nothing but just a straight line equation.\n",
    "# y = m*x + c\n",
    "# Reallllyyy!!!! yes, above equation is a simple linear regression equation\n",
    "\n",
    "import csv\n",
    "import numpy as np\n",
    "import matplotlib.pyplot as plt\n",
    "\n",
    "# numpy array declaration for real data of given dataset\n",
    "real_year            = np.array([[]], dtype = np.float64)\n",
    "real_gdp_growth_rate = np.array([[]], dtype = np.float64) \n",
    "\n",
    "# random m and c value of linear regression equation y  = m * x + c\n",
    "m = np.random.random((1, 1))\n",
    "c = np.random.random((1, 1))\n",
    "\n",
    "def build_dataset():\n",
    "    global real_year, real_gdp_growth_rate\n",
    "    \n",
    "    with open('bd_gdp_growth_rate.csv', 'r') as f:\n",
    "        dataset = csv.DictReader(f)\n",
    "        for data in dataset:\n",
    "            real_year = np.append(real_year, [[float(data['Year'])]], axis = 1)\n",
    "            real_gdp_growth_rate = np.append(real_gdp_growth_rate,\\\n",
    "                                             [[float(data['GDP Growth Rate'])]], axis = 1)\n",
    "    return 0\n",
    "\n",
    "def calculation():\n",
    "    global m, c, real_year, real_gdp_growth_rate\n",
    "    \n",
    "    # equations of slope m and y-axis interceptor c as follows -\n",
    "    # m = (n * Σ(xy) - Σx * Σy) / (n * Σ(x^2) - (Σx)^2)\n",
    "    # c = (Σ(x^2) * Σy - Σx * Σxy) / (n * Σ(x^2) - (Σx)^2)\n",
    "    \n",
    "    n      = real_year.size                        # n\n",
    "    Ex     = np.sum(real_year)                     # Σx\n",
    "    E_x2   = np.sum(real_year**2)                  # Σ(x^2)\n",
    "    Ex_2   = np.sum(real_year)**2                  # (Σx)^2\n",
    "    Ey  = np.sum(real_gdp_growth_rate)             # Σy\n",
    "    Exy = np.sum(real_year * real_gdp_growth_rate) # Σ(xy)\n",
    "    denominator = n * E_x2 - Ex_2                  # n * Σ(x^2) - (Σx)^2\n",
    "    \n",
    "    m = (n * Exy - Ex * Ey) / denominator    # (n * Σ(xy) - Σx * Σy) / (n * Σ(x^2) - (Σx)^2)\n",
    "    c = (E_x2 * Ey - Ex * Exy) / denominator # (Σ(x^2) * Σy - Σx * Σxy) / (n * Σ(x^2) - (Σx)^2)\n",
    "    \n",
    "    return 0\n",
    "    \n",
    "def main():\n",
    "    build_dataset()\n",
    "    calculation()\n",
    "    return 0\n",
    "    \n",
    "main()     \n",
    "\n",
    "# graph plot using matplotlib.pyplot\n",
    "dataset_len = real_year.size\n",
    "plt.plot(real_year.reshape(dataset_len), real_gdp_growth_rate.reshape(dataset_len), 'go')\n",
    "plt.plot(real_year.reshape(dataset_len), (m * real_year + c).reshape(dataset_len), 'g-')\n",
    "plt.grid(True)\n",
    "plt.title('Simple Linear Regression to predict GDP Growth Rate')\n",
    "plt.ylabel('Year')\n",
    "plt.xlabel('GDP Growth Rate')\n",
    "\n",
    "plt.show()"
   ]
  },
  {
   "cell_type": "code",
   "execution_count": 4,
   "metadata": {},
   "outputs": [
    {
     "name": "stdout",
     "output_type": "stream",
     "text": [
      "Enter year to predict GDP Growth Rate = 2020\n",
      "Predicted GDP Growth Rate =  7.2796439296385245\n"
     ]
    }
   ],
   "source": [
    "year_to_predict = int(input('Enter year to predict GDP Growth Rate = '))\n",
    "print('Predicted GDP Growth Rate = ', m * year_to_predict + c)"
   ]
  },
  {
   "cell_type": "code",
   "execution_count": null,
   "metadata": {},
   "outputs": [],
   "source": []
  }
 ],
 "metadata": {
  "kernelspec": {
   "display_name": "Python 3",
   "language": "python",
   "name": "python3"
  },
  "language_info": {
   "codemirror_mode": {
    "name": "ipython",
    "version": 3
   },
   "file_extension": ".py",
   "mimetype": "text/x-python",
   "name": "python",
   "nbconvert_exporter": "python",
   "pygments_lexer": "ipython3",
   "version": "3.7.4"
  }
 },
 "nbformat": 4,
 "nbformat_minor": 2
}
